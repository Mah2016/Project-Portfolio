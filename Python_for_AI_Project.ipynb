{
  "nbformat": 4,
  "nbformat_minor": 0,
  "metadata": {
    "colab": {
      "name": "Python for AI Project.ipynb",
      "provenance": [],
      "mount_file_id": "1d3luAk7KOLqeSYTO1EOPQxZRJB_4Xkzm",
      "authorship_tag": "ABX9TyOnHBOrR+gSR85XT131hxlS",
      "include_colab_link": true
    },
    "kernelspec": {
      "name": "python3",
      "display_name": "Python 3"
    },
    "language_info": {
      "name": "python"
    }
  },
  "cells": [
    {
      "cell_type": "markdown",
      "metadata": {
        "id": "view-in-github",
        "colab_type": "text"
      },
      "source": [
        "<a href=\"https://colab.research.google.com/github/Mah2016/testr/blob/main/Python_for_AI_Project.ipynb\" target=\"_parent\"><img src=\"https://colab.research.google.com/assets/colab-badge.svg\" alt=\"Open In Colab\"/></a>"
      ]
    },
    {
      "cell_type": "markdown",
      "metadata": {
        "id": "B7QS2i_bo0H6"
      },
      "source": [
        "Here is my project for Python for AI course.\n",
        "\n",
        "For completing the program, I used a lot of online resources.\n",
        "The test worked well. There is a minor difference that is addressed at the end of this document. "
      ]
    },
    {
      "cell_type": "markdown",
      "metadata": {
        "id": "1LbAMcVrbboj"
      },
      "source": [
        "Question: I have to install the PyPDF2 and Pattern every time I enter Colab. Isn't Colab using programs on my computer at all? Is there any way to keep them always installed?"
      ]
    },
    {
      "cell_type": "code",
      "metadata": {
        "colab": {
          "base_uri": "https://localhost:8080/"
        },
        "id": "dEwyanAOdTEz",
        "outputId": "3ddd13b9-245f-41aa-b970-86c609b043f3"
      },
      "source": [
        "!pip install PyPDF2"
      ],
      "execution_count": 6,
      "outputs": [
        {
          "output_type": "stream",
          "text": [
            "Collecting PyPDF2\n",
            "\u001b[?25l  Downloading https://files.pythonhosted.org/packages/b4/01/68fcc0d43daf4c6bdbc6b33cc3f77bda531c86b174cac56ef0ffdb96faab/PyPDF2-1.26.0.tar.gz (77kB)\n",
            "\r\u001b[K     |████▎                           | 10kB 16.9MB/s eta 0:00:01\r\u001b[K     |████████▌                       | 20kB 21.9MB/s eta 0:00:01\r\u001b[K     |████████████▊                   | 30kB 15.9MB/s eta 0:00:01\r\u001b[K     |█████████████████               | 40kB 11.9MB/s eta 0:00:01\r\u001b[K     |█████████████████████▏          | 51kB 8.6MB/s eta 0:00:01\r\u001b[K     |█████████████████████████▍      | 61kB 8.3MB/s eta 0:00:01\r\u001b[K     |█████████████████████████████▋  | 71kB 9.3MB/s eta 0:00:01\r\u001b[K     |████████████████████████████████| 81kB 4.9MB/s \n",
            "\u001b[?25hBuilding wheels for collected packages: PyPDF2\n",
            "  Building wheel for PyPDF2 (setup.py) ... \u001b[?25l\u001b[?25hdone\n",
            "  Created wheel for PyPDF2: filename=PyPDF2-1.26.0-cp37-none-any.whl size=61085 sha256=4525450f71d68f706124e4ff367cc8468f32d4f7c855f10206ec79e2d152d213\n",
            "  Stored in directory: /root/.cache/pip/wheels/53/84/19/35bc977c8bf5f0c23a8a011aa958acd4da4bbd7a229315c1b7\n",
            "Successfully built PyPDF2\n",
            "Installing collected packages: PyPDF2\n",
            "Successfully installed PyPDF2-1.26.0\n"
          ],
          "name": "stdout"
        }
      ]
    },
    {
      "cell_type": "code",
      "metadata": {
        "colab": {
          "base_uri": "https://localhost:8080/"
        },
        "id": "ij3-YdYvdyqb",
        "outputId": "1f9720a2-e95a-4618-df47-2653b9cd2a7a"
      },
      "source": [
        "!pip install pattern\n"
      ],
      "execution_count": 7,
      "outputs": [
        {
          "output_type": "stream",
          "text": [
            "Collecting pattern\n",
            "\u001b[?25l  Downloading https://files.pythonhosted.org/packages/1e/07/b0e61b6c818ed4b6145fe01d1c341223aa6cfbc3928538ad1f2b890924a3/Pattern-3.6.0.tar.gz (22.2MB)\n",
            "\u001b[K     |████████████████████████████████| 22.3MB 1.5MB/s \n",
            "\u001b[?25hRequirement already satisfied: future in /usr/local/lib/python3.7/dist-packages (from pattern) (0.16.0)\n",
            "Collecting backports.csv\n",
            "  Downloading https://files.pythonhosted.org/packages/8e/26/a6bd68f13e0f38fbb643d6e497fc3462be83a0b6c4d43425c78bb51a7291/backports.csv-1.0.7-py2.py3-none-any.whl\n",
            "Collecting mysqlclient\n",
            "\u001b[?25l  Downloading https://files.pythonhosted.org/packages/3c/df/59cd2fa5e48d0804d213bdcb1acb4d08c403b61c7ff7ed4dd4a6a2deb3f7/mysqlclient-2.0.3.tar.gz (88kB)\n",
            "\u001b[K     |████████████████████████████████| 92kB 9.0MB/s \n",
            "\u001b[?25hRequirement already satisfied: beautifulsoup4 in /usr/local/lib/python3.7/dist-packages (from pattern) (4.6.3)\n",
            "Requirement already satisfied: lxml in /usr/local/lib/python3.7/dist-packages (from pattern) (4.2.6)\n",
            "Collecting feedparser\n",
            "\u001b[?25l  Downloading https://files.pythonhosted.org/packages/1c/21/faf1bac028662cc8adb2b5ef7a6f3999a765baa2835331df365289b0ca56/feedparser-6.0.2-py3-none-any.whl (80kB)\n",
            "\u001b[K     |████████████████████████████████| 81kB 8.7MB/s \n",
            "\u001b[?25hCollecting pdfminer.six\n",
            "\u001b[?25l  Downloading https://files.pythonhosted.org/packages/93/f3/4fec7dabe8802ebec46141345bf714cd1fc7d93cb74ddde917e4b6d97d88/pdfminer.six-20201018-py3-none-any.whl (5.6MB)\n",
            "\u001b[K     |████████████████████████████████| 5.6MB 32.3MB/s \n",
            "\u001b[?25hRequirement already satisfied: numpy in /usr/local/lib/python3.7/dist-packages (from pattern) (1.19.5)\n",
            "Requirement already satisfied: scipy in /usr/local/lib/python3.7/dist-packages (from pattern) (1.4.1)\n",
            "Requirement already satisfied: nltk in /usr/local/lib/python3.7/dist-packages (from pattern) (3.2.5)\n",
            "Collecting python-docx\n",
            "\u001b[?25l  Downloading https://files.pythonhosted.org/packages/e4/83/c66a1934ed5ed8ab1dbb9931f1779079f8bca0f6bbc5793c06c4b5e7d671/python-docx-0.8.10.tar.gz (5.5MB)\n",
            "\u001b[K     |████████████████████████████████| 5.5MB 47.4MB/s \n",
            "\u001b[?25hCollecting cherrypy\n",
            "\u001b[?25l  Downloading https://files.pythonhosted.org/packages/a8/f9/e11f893dcabe6bc222a1442bf5e14f0322a2d363c92910ed41947078a35a/CherryPy-18.6.0-py2.py3-none-any.whl (419kB)\n",
            "\u001b[K     |████████████████████████████████| 419kB 40.9MB/s \n",
            "\u001b[?25hRequirement already satisfied: requests in /usr/local/lib/python3.7/dist-packages (from pattern) (2.23.0)\n",
            "Collecting sgmllib3k\n",
            "  Downloading https://files.pythonhosted.org/packages/9e/bd/3704a8c3e0942d711c1299ebf7b9091930adae6675d7c8f476a7ce48653c/sgmllib3k-1.0.0.tar.gz\n",
            "Requirement already satisfied: sortedcontainers in /usr/local/lib/python3.7/dist-packages (from pdfminer.six->pattern) (2.3.0)\n",
            "Requirement already satisfied: chardet; python_version > \"3.0\" in /usr/local/lib/python3.7/dist-packages (from pdfminer.six->pattern) (3.0.4)\n",
            "Collecting cryptography\n",
            "\u001b[?25l  Downloading https://files.pythonhosted.org/packages/b2/26/7af637e6a7e87258b963f1731c5982fb31cd507f0d90d91836e446955d02/cryptography-3.4.7-cp36-abi3-manylinux2014_x86_64.whl (3.2MB)\n",
            "\u001b[K     |████████████████████████████████| 3.2MB 45.6MB/s \n",
            "\u001b[?25hRequirement already satisfied: six in /usr/local/lib/python3.7/dist-packages (from nltk->pattern) (1.15.0)\n",
            "Collecting jaraco.collections\n",
            "  Downloading https://files.pythonhosted.org/packages/d5/1a/a0d6861d2aca6df92643c755966c8a60e40353e4c5e7a5c2f4e5ed733817/jaraco.collections-3.3.0-py3-none-any.whl\n",
            "Collecting zc.lockfile\n",
            "  Downloading https://files.pythonhosted.org/packages/6c/2a/268389776288f0f26c7272c70c36c96dcc0bdb88ab6216ea18e19df1fadd/zc.lockfile-2.0-py2.py3-none-any.whl\n",
            "Collecting portend>=2.1.1\n",
            "  Downloading https://files.pythonhosted.org/packages/b8/a1/fd29409cced540facdd29abb986d988cb1f22c8170d10022ea73af77fa55/portend-2.7.1-py3-none-any.whl\n",
            "Collecting cheroot>=8.2.1\n",
            "\u001b[?25l  Downloading https://files.pythonhosted.org/packages/46/95/86fe6480af78fea7b0e7e1bf02e6acd4cb9e561ea200bd6d6e1398fe5426/cheroot-8.5.2-py2.py3-none-any.whl (97kB)\n",
            "\u001b[K     |████████████████████████████████| 102kB 10.2MB/s \n",
            "\u001b[?25hRequirement already satisfied: more-itertools in /usr/local/lib/python3.7/dist-packages (from cherrypy->pattern) (8.7.0)\n",
            "Requirement already satisfied: certifi>=2017.4.17 in /usr/local/lib/python3.7/dist-packages (from requests->pattern) (2020.12.5)\n",
            "Requirement already satisfied: idna<3,>=2.5 in /usr/local/lib/python3.7/dist-packages (from requests->pattern) (2.10)\n",
            "Requirement already satisfied: urllib3!=1.25.0,!=1.25.1,<1.26,>=1.21.1 in /usr/local/lib/python3.7/dist-packages (from requests->pattern) (1.24.3)\n",
            "Requirement already satisfied: cffi>=1.12 in /usr/local/lib/python3.7/dist-packages (from cryptography->pdfminer.six->pattern) (1.14.5)\n",
            "Collecting jaraco.text\n",
            "  Downloading https://files.pythonhosted.org/packages/c1/74/2a3c4835c079df16db8a9c50263eebb0125849fee5b16de353a059b7545d/jaraco.text-3.5.0-py3-none-any.whl\n",
            "Collecting jaraco.classes\n",
            "  Downloading https://files.pythonhosted.org/packages/b8/74/bee5fc11594974746535117546404678fc7b899476e769c3c55bc0cfaa02/jaraco.classes-3.2.1-py3-none-any.whl\n",
            "Requirement already satisfied: setuptools in /usr/local/lib/python3.7/dist-packages (from zc.lockfile->cherrypy->pattern) (56.0.0)\n",
            "Collecting tempora>=1.8\n",
            "  Downloading https://files.pythonhosted.org/packages/44/83/4d5c3de53bbc463f30ab6764e27bc2e8ed9b59736e8b40d95403ff802008/tempora-4.0.2-py3-none-any.whl\n",
            "Collecting jaraco.functools\n",
            "  Downloading https://files.pythonhosted.org/packages/b5/da/e51e7b58c8fe132990edd1e3ef25bcd9801eb7f91d0f642ac7f8d97e4a36/jaraco.functools-3.3.0-py3-none-any.whl\n",
            "Requirement already satisfied: pycparser in /usr/local/lib/python3.7/dist-packages (from cffi>=1.12->cryptography->pdfminer.six->pattern) (2.20)\n",
            "Requirement already satisfied: pytz in /usr/local/lib/python3.7/dist-packages (from tempora>=1.8->portend>=2.1.1->cherrypy->pattern) (2018.9)\n",
            "Building wheels for collected packages: pattern, mysqlclient, python-docx, sgmllib3k\n",
            "  Building wheel for pattern (setup.py) ... \u001b[?25l\u001b[?25hdone\n",
            "  Created wheel for pattern: filename=Pattern-3.6-cp37-none-any.whl size=22332724 sha256=1ef87ba4142c0e619742fc664b1cb9eaad92b5a634438f953e5107141642e221\n",
            "  Stored in directory: /root/.cache/pip/wheels/dc/9a/0e/5fb1a603ed4e3aa8722a88e9cf4a82da7d1b63e3d2cc34bee5\n",
            "  Building wheel for mysqlclient (setup.py) ... \u001b[?25l\u001b[?25hdone\n",
            "  Created wheel for mysqlclient: filename=mysqlclient-2.0.3-cp37-cp37m-linux_x86_64.whl size=100100 sha256=d114bab95353a1f7d93adfb88c178678576d78097a1e04944536740448b4e7ef\n",
            "  Stored in directory: /root/.cache/pip/wheels/75/ca/e8/ad4e7ce3df18bcd91c7d84dd28c7c08db491a2a2360efed363\n",
            "  Building wheel for python-docx (setup.py) ... \u001b[?25l\u001b[?25hdone\n",
            "  Created wheel for python-docx: filename=python_docx-0.8.10-cp37-none-any.whl size=184491 sha256=50079103c3dd81e40adf3057843d43a98138eaa87f433f052242246667885709\n",
            "  Stored in directory: /root/.cache/pip/wheels/18/0b/a0/1dd62ff812c857c9e487f27d80d53d2b40531bec1acecfa47b\n",
            "  Building wheel for sgmllib3k (setup.py) ... \u001b[?25l\u001b[?25hdone\n",
            "  Created wheel for sgmllib3k: filename=sgmllib3k-1.0.0-cp37-none-any.whl size=6067 sha256=98bd5516a042719c5838939eee4cecd061852042b7999d82207ad26c0bc91793\n",
            "  Stored in directory: /root/.cache/pip/wheels/f1/80/5a/444ba08a550cdd241bd9baf8bae44be750efe370adb944506a\n",
            "Successfully built pattern mysqlclient python-docx sgmllib3k\n",
            "Installing collected packages: backports.csv, mysqlclient, sgmllib3k, feedparser, cryptography, pdfminer.six, python-docx, jaraco.functools, jaraco.text, jaraco.classes, jaraco.collections, zc.lockfile, tempora, portend, cheroot, cherrypy, pattern\n",
            "Successfully installed backports.csv-1.0.7 cheroot-8.5.2 cherrypy-18.6.0 cryptography-3.4.7 feedparser-6.0.2 jaraco.classes-3.2.1 jaraco.collections-3.3.0 jaraco.functools-3.3.0 jaraco.text-3.5.0 mysqlclient-2.0.3 pattern-3.6 pdfminer.six-20201018 portend-2.7.1 python-docx-0.8.10 sgmllib3k-1.0.0 tempora-4.0.2 zc.lockfile-2.0\n"
          ],
          "name": "stdout"
        }
      ]
    },
    {
      "cell_type": "markdown",
      "metadata": {
        "id": "6AEvsAj2bzkA"
      },
      "source": [
        "First part is importing the required library: PyPDF2 is for reading the PDF documents. Pattern.en is used for changing the ploral forms to singular and re is for spliting based on non-alphabet characters."
      ]
    },
    {
      "cell_type": "code",
      "metadata": {
        "id": "tieIpy2KbXL4"
      },
      "source": [
        "import PyPDF2\n",
        "from pattern.en import singularize\n",
        "import re"
      ],
      "execution_count": 8,
      "outputs": []
    },
    {
      "cell_type": "markdown",
      "metadata": {
        "id": "-g8jo6LwcnVE"
      },
      "source": [
        "Here is the class definition:"
      ]
    },
    {
      "cell_type": "code",
      "metadata": {
        "id": "skzgN8uhctmu"
      },
      "source": [
        "class WordAnalysis:\n",
        "    def __init__ (self):\n",
        "        self.__words={}\n",
        "        self.__rmwords={}\n",
        "    \n",
        "    def __str__ (self):\n",
        "        wcount=0;\n",
        "        for word in self.__words:\n",
        "            print('{:15s} {:3d}'.format(word,self.__words[word]), end=\"    \")\n",
        "            wcount+=1;\n",
        "            if wcount%4 == 0:\n",
        "                print('')\n",
        "        return ''\n",
        "    \n",
        "    def AddRemovedWords(self, word):\n",
        "        self.__rmwords[word]=1\n",
        "    \n",
        "    def DelRemovedWords(self, word):\n",
        "        if word in self.__rmwords:\n",
        "            del self.__rmwords[word];\n",
        "            self.__words[word]+=1;\n",
        "            \n",
        "    \n",
        "    def ExtractWords(self,text):\n",
        "        \n",
        "        words = str.split(text)\n",
        "        for word in words:\n",
        "            #print(word)\n",
        "            if word.isalpha():\n",
        "                word1=singularize(word).lower();\n",
        "                if (word1 in self.__words):\n",
        "                    self.__words[word1] += 1;\n",
        "                elif len(word1)>1 :\n",
        "                    self.__words[word1] = 1;\n",
        "            else:\n",
        "                #word1= ''.join(filter(str.isalpha, word));\n",
        "                sword = re.split('[^a-zA-Z]', word)\n",
        "                for word in sword:\n",
        "                    word1=singularize(word).lower();\n",
        "                    if (word1 in self.__words):\n",
        "                        self.__words[word1] += 1;\n",
        "                    elif len(word1)>1 :\n",
        "                        self.__words[word1] = 1;\n",
        "           \n",
        "        for w in self.__rmwords:\n",
        "            if w in self.__words:\n",
        "                del self.__words[w];\n",
        "                \n",
        "    \n",
        "    def Show(self, freq):\n",
        "        words=dict(sorted(self.__words.items(), key=lambda item: item[1], reverse=True))\n",
        "        #word1=sorted(self.__words, key=self.__words.get, reverse=True)\n",
        "        #for w in word1:#[self.__words.get>freq]:\n",
        "        print('\\n')\n",
        "        for w in words:\n",
        "            if words[w]>freq:\n",
        "                #print('{:25s} {:32s} {:35s} '.format(\"Name\",\"Country\",\"Age\"))\n",
        "                print('{:6s} {:15s} {:11s} {:2d}'.format('--word:',w,'--frequency:',words[w]))\n",
        "                #print('word--   ',w,'%30s'%' --frequency:', words[w])\n",
        "        print('\\n')"
      ],
      "execution_count": 9,
      "outputs": []
    },
    {
      "cell_type": "markdown",
      "metadata": {
        "id": "XVEUS1KQc3vc"
      },
      "source": [
        "And the last part is the test program:"
      ]
    },
    {
      "cell_type": "code",
      "metadata": {
        "colab": {
          "base_uri": "https://localhost:8080/"
        },
        "id": "za4Pc32UdBg1",
        "outputId": "49bcf50c-e777-4ee0-a89b-5f5814325927"
      },
      "source": [
        "\n",
        "# you can find find the pdf file with complete code in below\n",
        "pdfFileObj = open('/content/drive/MyDrive/Colab Notebooks/SampleCh7.pdf', 'rb')\n",
        "# pdf reader object\n",
        "pdfReader = PyPDF2.PdfFileReader(pdfFileObj)\n",
        "# number of pages in pdf\n",
        "pages=pdfReader.numPages\n",
        "#remove the words that are not meaningful. You can add back any word. Please test yourself.\n",
        "\n",
        "\n",
        "wordAnalysis = WordAnalysis()\n",
        "wordAnalysis.AddRemovedWords(\"and\")\n",
        "wordAnalysis.AddRemovedWords(\"a\")\n",
        "wordAnalysis.AddRemovedWords(\"the\")\n",
        "# analys 4 pages. max pages is pages calculated above\n",
        "for i in range(4):\n",
        "    pageObj = pdfReader.getPage(i);\n",
        "    # extracting the words from page.into database\n",
        "    a=pageObj.extractText();\n",
        "    wordAnalysis.ExtractWords(a);\n",
        "# show words with frequency > 10\n",
        "wordAnalysis.Show(10);\n",
        "#print out all the words in the dictionary\n",
        "print (wordAnalysis);\n",
        "#close the file.\n",
        "pdfFileObj.close() ;\n"
      ],
      "execution_count": 10,
      "outputs": [
        {
          "output_type": "stream",
          "text": [
            "\n",
            "\n",
            "--word: number          --frequency: 32\n",
            "--word: is              --frequency: 25\n",
            "--word: to              --frequency: 24\n",
            "--word: phone           --frequency: 24\n",
            "--word: you             --frequency: 22\n",
            "--word: in              --frequency: 22\n",
            "--word: regular         --frequency: 19\n",
            "--word: expression      --frequency: 19\n",
            "--word: text            --frequency: 19\n",
            "--word: of              --frequency: 19\n",
            "--word: for             --frequency: 18\n",
            "--word: pattern         --frequency: 17\n",
            "--word: isphonenumber   --frequency: 15\n",
            "--word: if              --frequency: 14\n",
            "--word: string          --frequency: 13\n",
            "--word: that            --frequency: 12\n",
            "--word: chunk           --frequency: 12\n",
            "--word: with            --frequency: 11\n",
            "--word: return          --frequency: 11\n",
            "\n",
            "\n",
            "pattern          17    matching          3    with             11    regular          19    \n",
            "expression       19    you              22    may               2    be                6    \n",
            "familiar          1    searching         1    for              18    text             19    \n",
            "by                4    pressing          1    ctrl              1    entering          1    \n",
            "word              4    re                4    looking           1    go                2    \n",
            "one               2    step              3    further           1    they              1    \n",
            "allow             1    to               24    specify           1    of               19    \n",
            "search            2    not               8    know              5    busines           1    \n",
            "exact             1    phone            24    number           32    but               9    \n",
            "if               14    live              1    in               22    united            1    \n",
            "state             1    or                4    canada            1    it               10    \n",
            "will              5    three             9    digit             5    followed          1    \n",
            "hyphen            8    then              6    fmy               5    more              9    \n",
            "optionally        1    area              3    code             10    at                9    \n",
            "start             2    thi               9    is               25    how               3    \n",
            "as                4    human             1    when              4    see               4    \n",
            "we                4    also              4    recognize         1    all               4    \n",
            "sort              1    other             4    every             1    day               2    \n",
            "email             2    address           2    have              6    symbol            1    \n",
            "middle            1    social            2    security          1    nine              1    \n",
            "two               1    website           1    url               1    often             1    \n",
            "period            1    forward           1    slash             1    news              1    \n",
            "headline          1    use               4    title             1    case              1    \n",
            "medium            1    hashtag           1    begin             1    contain           1    \n",
            "no                1    space             1    chapter           4    are               3    \n",
            "helpful           1    few               1    non               1    programmer        2    \n",
            "about             2    them              2    even              3    though            1    \n",
            "most              1    modern            1    editor            2    processor         1    \n",
            "such              2    microsoft         1    openof            1    ce                1    \n",
            "nd                9    replace           2    feature           2    that             12    \n",
            "can               6    based             1    on                8    huge              1    \n",
            "time              2    saver             1    just              1    software          1    \n",
            "user              1    fact              1    tech              1    writer            1    \n",
            "cory              2    doctorow          2    argue             1    should            2    \n",
            "teaching          1    before            1    programming       1    knowing           1    \n",
            "mean              1    difference        1    between           1    solving           2    \n",
            "problem           2    nerd              1    forget            1    solve             1    \n",
            "cou               1    ple               1    keystroke         1    take              2    \n",
            "person            1    tediou            1    error             1    prone             1    \n",
            "work              2    slog              1    through           4    ll                4    \n",
            "writing           1    program           9    out               1    using             2    \n",
            "make              2    much              2    les               3    bloated           1    \n",
            "show              1    basic             1    move              1    some              1    \n",
            "powerful          1    string           13    substitution      1    creating          1    \n",
            "ymy               1    own               1    character        10    class             1    \n",
            "finally           1    end               1    write             2    automatically     1    \n",
            "extract           1    from              3    block             1    finding           2    \n",
            "without           1    say               1    want              1    an                4    \n",
            "american          2    here              2    example           5    let               1    \n",
            "function          8    named             1    isphonenumber    15    check             7    \n",
            "whether           3    match             5    returning         1    either            1    \n",
            "true              3    false             9    open              1    new               2    \n",
            "le                2    tab               1    enter             1    following         3    \n",
            "save              1    py                2    def               1    len               2    \n",
            "return           11    range             4    isdecimal         3    what              3    \n",
            "ict               2    really            1    teach             2    kid               2    \n",
            "do                3    guardian          1    december          1    http              1    \n",
            "www               1    theguardian       1    com               1    technology        1    \n",
            "dec               1    trueprint         1    print             8    moshi            10    \n",
            "run               4    output            2    look              2    like              5    \n",
            "truei             1    falsethe          1    ha                1    several           1    \n",
            "valid             1    any               4    these             3    fail              3    \n",
            "first             1    exactly           1    rst               4    consist           1    \n",
            "only              2    numeric           2    rest              1    follow            1    \n",
            "must              1    after             2    another           2    nally             1    \n",
            "execution         1    manage            1    get               1    past              1    \n",
            "calling           2    argument          1    test              1    because           1    \n",
            "long              2    wanted            1    within            1    larger            1    \n",
            "would             5    add               2    last              1    call              4    \n",
            "message           9    me                7    tomorrow          1    my                1    \n",
            "office            1    chunk            12    found             3    done              4    \n",
            "each              3    iteration         3    loop              4    assigned          3    \n",
            "variable          1    itera             1    tion              1    next              1    \n",
            "value             1    so                3    pas               1    continue          1    \n",
            "eventually        1    entire            1    testing           1    piece             1    \n",
            "printing          1    sati              1    es                1    once              1    \n",
            "going             1    while             1    short             2    could             2    \n",
            "million           1    still             1    than              2    second            2    \n",
            "similar           1    quicker           1    previou           2    nding             1    \n",
            "lot               1    something         1    limited           1    line              1    \n",
            "formatted         1    num               1    ber               1    had               1    \n",
            "extension         1    validate          1    yet               1    addi              1    \n",
            "tional            1    there             1    easier            1    way               1    \n",
            "called            1    regex             5    description       1    pat               1    \n",
            "tern              1    stand             1    characteršthat    1    single            1    \n",
            "numeral           1    used              1    python            1    same              1    \n",
            "did               1    sophisticated     1    adding            1    brace             1    \n",
            "saying            1    ﬁmatch            1    slightly          1    shorter           1    \n",
            "correct           1    format            1    \n"
          ],
          "name": "stdout"
        }
      ]
    },
    {
      "cell_type": "markdown",
      "metadata": {
        "id": "06uJ4MJmsE0s"
      },
      "source": [
        "\n",
        "\n",
        "Summary:\n",
        "\n",
        "There results lookes match with the expectation. \n",
        "\n",
        "There are only two words on the project statement that are missing on my results: \"fihere\" and \"numberœ\". \n",
        "I went through the PDF document and the both resuts. It seems that these two words should have been read as \"here\" and \"number\".\n"
      ]
    }
  ]
}